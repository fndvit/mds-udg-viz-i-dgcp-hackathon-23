{
 "cells": [
  {
   "cell_type": "code",
   "execution_count": 3,
   "metadata": {},
   "outputs": [],
   "source": [
    "import os"
   ]
  },
  {
   "cell_type": "code",
   "execution_count": 17,
   "metadata": {},
   "outputs": [
    {
     "data": {
      "text/plain": [
       "'raster_1999.tif raster_2000.tif raster_2001.tif raster_2002.tif raster_2003.tif raster_2004.tif raster_2005.tif raster_2006.tif raster_2007.tif raster_2008.tif raster_2009.tif raster_2010.tif raster_2011.tif raster_2012.tif raster_2013.tif raster_2014.tif raster_2015.tif raster_2016.tif raster_2019.tif'"
      ]
     },
     "execution_count": 17,
     "metadata": {},
     "output_type": "execute_result"
    }
   ],
   "source": [
    "dir_path = os.getcwd()\n",
    "tif_files = []\n",
    "\n",
    "# append all zip files in the target directory\n",
    "for path in os.listdir(dir_path):\n",
    "    # Check if it's a file\n",
    "    if os.path.isfile(os.path.join(dir_path, path)):\n",
    "        # Check if is a tif file (extension)\n",
    "        if path[-4:] == '.tif':\n",
    "            tif_files.append(path)\n",
    "\n",
    "tif_files.sort()\n",
    "tif_files_command = ' '.join(tif_files)\n",
    "tif_files_command"
   ]
  },
  {
   "cell_type": "code",
   "execution_count": 18,
   "metadata": {},
   "outputs": [
    {
     "name": "stdout",
     "output_type": "stream",
     "text": [
      "Input file size is 3600, 1250\n",
      "0...10...20...30...40...50...60...70...80...90...100 - done.\n"
     ]
    }
   ],
   "source": [
    "!gdalbuildvrt -separate /vsistdout/ raster_1999.tif raster_2000.tif raster_2001.tif raster_2002.tif raster_2003.tif raster_2004.tif raster_2005.tif raster_2006.tif raster_2007.tif raster_2008.tif raster_2009.tif raster_2010.tif raster_2011.tif raster_2012.tif raster_2013.tif raster_2014.tif raster_2015.tif raster_2016.tif raster_2019.tif |gdal_translate /vsistdin/ merged.tif "
   ]
  }
 ],
 "metadata": {
  "kernelspec": {
   "display_name": "Python 3",
   "language": "python",
   "name": "python3"
  },
  "language_info": {
   "codemirror_mode": {
    "name": "ipython",
    "version": 3
   },
   "file_extension": ".py",
   "mimetype": "text/x-python",
   "name": "python",
   "nbconvert_exporter": "python",
   "pygments_lexer": "ipython3",
   "version": "3.9.10"
  },
  "orig_nbformat": 4,
  "vscode": {
   "interpreter": {
    "hash": "b0fa6594d8f4cbf19f97940f81e996739fb7646882a419484c72d19e05852a7e"
   }
  }
 },
 "nbformat": 4,
 "nbformat_minor": 2
}
