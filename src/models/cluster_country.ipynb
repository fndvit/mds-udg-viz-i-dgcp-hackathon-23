{
 "cells": [
  {
   "cell_type": "code",
   "execution_count": 6,
   "metadata": {},
   "outputs": [],
   "source": [
    "import pandas as pd\n",
    "import numpy as np\n",
    "import json"
   ]
  },
  {
   "cell_type": "code",
   "execution_count": 3,
   "metadata": {},
   "outputs": [],
   "source": [
    "df = pd.read_csv('../data/examples/exemple_dt_1_with_pop_life.csv')\n"
   ]
  },
  {
   "cell_type": "code",
   "execution_count": 9,
   "metadata": {},
   "outputs": [],
   "source": [
    "\n",
    "# create a dictionary to store the final data structure\n",
    "data = {}\n",
    "\n",
    "# loop through each row of the dataframe\n",
    "for index, row in df.iterrows():\n",
    "    country = row['iso_code']\n",
    "    # create an inner dictionary for the country\n",
    "    if country not in data:\n",
    "        data[country] = {}\n",
    "    # loop through each year from 2005 to 2007\n",
    "    for year in range(2005, 2008):\n",
    "        year_str = str(year)\n",
    "        # create a nested dictionary for each year\n",
    "        data[country][year] = {}\n",
    "        population = row['population_' + year_str]\n",
    "        data[country][year]['min'] = row[year_str + '_min'] / population\n",
    "        data[country][year]['avg'] = row[year_str + '_avg'] / population\n",
    "        data[country][year]['max'] = row[year_str + '_max'] / population\n",
    "        data[country][year]['life_expectancy'] = row['life_expectancy_' + year_str]\n",
    "\n",
    "# convert the final data structure to a JSON string\n",
    "json_str = json.dumps(data)\n",
    "\n",
    "# write the JSON string to a file\n",
    "with open('../data/examples/data_example.json', 'w') as f:\n",
    "    f.write(json_str)"
   ]
  },
  {
   "cell_type": "code",
   "execution_count": null,
   "metadata": {},
   "outputs": [],
   "source": [
    "# Loop through the years from 2005 to 2007\n",
    "df = pd.read_csv('../data/examples/exemple_dt_1_with_pop_life.csv')\n",
    "\n",
    "for year in range(2005, 2008):\n",
    "    year_str = str(year)\n",
    "    # Divide the min, max and avg by the population\n",
    "    df[year_str + \"_min\"] = df[year_str + \"_min\"] / df[\"population_\" + year_str]\n",
    "    df[year_str + \"_max\"] = df[year_str + \"_max\"] / df[\"population_\" + year_str]\n",
    "    df[year_str + \"_avg\"] = df[year_str + \"_avg\"] / df[\"population_\" + year_str]\n",
    "    df.drop(\"population_\" + year_str, axis=1, inplace=True)\n",
    "\n",
    "# Save the updated dataframe to a new csv file\n",
    "df.to_csv(\"../data/examples/for_clustering.csv\", index=False)"
   ]
  }
 ],
 "metadata": {
  "kernelspec": {
   "display_name": "env",
   "language": "python",
   "name": "python3"
  },
  "language_info": {
   "codemirror_mode": {
    "name": "ipython",
    "version": 3
   },
   "file_extension": ".py",
   "mimetype": "text/x-python",
   "name": "python",
   "nbconvert_exporter": "python",
   "pygments_lexer": "ipython3",
   "version": "3.10.6"
  },
  "orig_nbformat": 4,
  "vscode": {
   "interpreter": {
    "hash": "8d6bd1ee66e5183dc29e7cc86b7d06e161f5cfb32cdf18e111b7bd1decdd7eb3"
   }
  }
 },
 "nbformat": 4,
 "nbformat_minor": 2
}
