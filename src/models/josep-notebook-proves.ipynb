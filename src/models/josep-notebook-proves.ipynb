{
 "cells": [
  {
   "cell_type": "code",
   "execution_count": 14,
   "metadata": {},
   "outputs": [],
   "source": [
    "import pandas as pd\n",
    "import numpy as np\n"
   ]
  },
  {
   "cell_type": "code",
   "execution_count": 11,
   "metadata": {},
   "outputs": [],
   "source": [
    "#Open the src\\data\\gadm41_COD_2.json\n",
    "import json\n",
    "import os\n",
    "# Get cwd\n",
    "cwd = os.getcwd()\n",
    "# cd .. to get to the parent directory\n",
    "cwd = os.path.dirname(cwd)\n",
    "with open(os.path.join(cwd, 'data', 'gadm41_COD_2.json')) as f:\n",
    "    data = json.load(f)"
   ]
  },
  {
   "cell_type": "code",
   "execution_count": 54,
   "metadata": {},
   "outputs": [],
   "source": []
  },
  {
   "cell_type": "code",
   "execution_count": 167,
   "metadata": {},
   "outputs": [],
   "source": [
    "# load the csv src\\data\\LifeExp\\API_SP.DYN.LE00.IN_DS2_en_csv_v2_4770434.csv\n",
    "df = pd.read_csv(os.path.join(cwd, 'data', 'LifeExp', 'API_SP.DYN.LE00.IN_DS2_en_csv_v2_4770434.csv'))\n",
    "# Get the rows with Indicator Name = Life expectancy at birth, total (years)\n",
    "df = df[df['Indicator Name'] == 'Life expectancy at birth, total (years)']\n",
    "# Exclude the rows which are county aggregates\n",
    "df = df[df['Country Code'] != 'COD']\n",
    "df.drop(['Country Name', 'Indicator Name', 'Indicator Code', 'Unnamed: 66', '2021'], axis=1, inplace=True)\n",
    "\n",
    "# load the csv src\\data\\LifeExp\\API_SP.DYN.LE00.IN_DS2_en_csv_v2_4770434.csv\n",
    "c_codes = pd.read_csv(os.path.join(cwd, 'data', 'country_codes.csv'))\n",
    "# Icodes = c_codes['alpha-3'].values\n",
    "iso_codes = c_codes['alpha-3'].values\n",
    "\n",
    "#Keep the rows with the iso codes in the iso_codes list\n",
    "df = df[df['Country Code'].isin(iso_codes)]\n",
    "df.set_index('Country Code', inplace=True)"
   ]
  },
  {
   "cell_type": "code",
   "execution_count": 168,
   "metadata": {},
   "outputs": [],
   "source": [
    "#Turn into a nested dictionary\n",
    "df = df.to_dict(orient='index')\n",
    "# Read into a dataframe\n",
    "df = pd.DataFrame.from_dict(df, orient='index')"
   ]
  },
  {
   "cell_type": "code",
   "execution_count": 169,
   "metadata": {},
   "outputs": [],
   "source": [
    "# Turn into a nested dataframe\n",
    "df = df.stack().reset_index()\n",
    "# Rename the columns to 'country' and 'year' and 'life_exp'\n",
    "df.columns = ['country', 'year', 'life_exp']"
   ]
  },
  {
   "cell_type": "code",
   "execution_count": 172,
   "metadata": {},
   "outputs": [],
   "source": [
    "nested_df = df.groupby(['country', 'year']).last()"
   ]
  },
  {
   "cell_type": "code",
   "execution_count": 173,
   "metadata": {},
   "outputs": [
    {
     "data": {
      "text/html": [
       "<div>\n",
       "<style scoped>\n",
       "    .dataframe tbody tr th:only-of-type {\n",
       "        vertical-align: middle;\n",
       "    }\n",
       "\n",
       "    .dataframe tbody tr th {\n",
       "        vertical-align: top;\n",
       "    }\n",
       "\n",
       "    .dataframe thead th {\n",
       "        text-align: right;\n",
       "    }\n",
       "</style>\n",
       "<table border=\"1\" class=\"dataframe\">\n",
       "  <thead>\n",
       "    <tr style=\"text-align: right;\">\n",
       "      <th></th>\n",
       "      <th></th>\n",
       "      <th>life_exp</th>\n",
       "    </tr>\n",
       "    <tr>\n",
       "      <th>country</th>\n",
       "      <th>year</th>\n",
       "      <th></th>\n",
       "    </tr>\n",
       "  </thead>\n",
       "  <tbody>\n",
       "    <tr>\n",
       "      <th rowspan=\"5\" valign=\"top\">ABW</th>\n",
       "      <th>1960</th>\n",
       "      <td>64.152</td>\n",
       "    </tr>\n",
       "    <tr>\n",
       "      <th>1961</th>\n",
       "      <td>64.537</td>\n",
       "    </tr>\n",
       "    <tr>\n",
       "      <th>1962</th>\n",
       "      <td>64.752</td>\n",
       "    </tr>\n",
       "    <tr>\n",
       "      <th>1963</th>\n",
       "      <td>65.132</td>\n",
       "    </tr>\n",
       "    <tr>\n",
       "      <th>1964</th>\n",
       "      <td>65.294</td>\n",
       "    </tr>\n",
       "    <tr>\n",
       "      <th>...</th>\n",
       "      <th>...</th>\n",
       "      <td>...</td>\n",
       "    </tr>\n",
       "    <tr>\n",
       "      <th rowspan=\"5\" valign=\"top\">ZWE</th>\n",
       "      <th>2016</th>\n",
       "      <td>60.306</td>\n",
       "    </tr>\n",
       "    <tr>\n",
       "      <th>2017</th>\n",
       "      <td>60.709</td>\n",
       "    </tr>\n",
       "    <tr>\n",
       "      <th>2018</th>\n",
       "      <td>61.414</td>\n",
       "    </tr>\n",
       "    <tr>\n",
       "      <th>2019</th>\n",
       "      <td>61.292</td>\n",
       "    </tr>\n",
       "    <tr>\n",
       "      <th>2020</th>\n",
       "      <td>61.124</td>\n",
       "    </tr>\n",
       "  </tbody>\n",
       "</table>\n",
       "<p>12093 rows × 1 columns</p>\n",
       "</div>"
      ],
      "text/plain": [
       "              life_exp\n",
       "country year          \n",
       "ABW     1960    64.152\n",
       "        1961    64.537\n",
       "        1962    64.752\n",
       "        1963    65.132\n",
       "        1964    65.294\n",
       "...                ...\n",
       "ZWE     2016    60.306\n",
       "        2017    60.709\n",
       "        2018    61.414\n",
       "        2019    61.292\n",
       "        2020    61.124\n",
       "\n",
       "[12093 rows x 1 columns]"
      ]
     },
     "execution_count": 173,
     "metadata": {},
     "output_type": "execute_result"
    }
   ],
   "source": [
    "nested_df"
   ]
  }
 ],
 "metadata": {
  "kernelspec": {
   "display_name": "Hackathlon MCD",
   "language": "python",
   "name": "hackathlon"
  },
  "language_info": {
   "codemirror_mode": {
    "name": "ipython",
    "version": 3
   },
   "file_extension": ".py",
   "mimetype": "text/x-python",
   "name": "python",
   "nbconvert_exporter": "python",
   "pygments_lexer": "ipython3",
   "version": "3.10.9"
  },
  "orig_nbformat": 4
 },
 "nbformat": 4,
 "nbformat_minor": 2
}
